{
 "cells": [
  {
   "cell_type": "markdown",
   "metadata": {},
   "source": [
    "# Henter API\n",
    "\n",
    "Her henter vi inn API-et og lagrer det i en csv fil\n",
    "Vi henter data for lufttemperatur, nedmørsmengde og vindhastighet over 45 år i Oslo på værstasjonen Oslo-Blindern"
   ]
  },
  {
   "cell_type": "code",
   "execution_count": 5,
   "metadata": {},
   "outputs": [
    {
     "name": "stdout",
     "output_type": "stream",
     "text": [
      "Data retrieved from frost.met.no!\n"
     ]
    }
   ],
   "source": [
    "# Importerer biblioteker\n",
    "import requests\n",
    "import pandas as pd\n",
    "\n",
    "# Skriver inn client Id\n",
    "client_id = '61f26ba4-3f68-4e56-a3b8-09733ceb82ed'\n",
    "\n",
    "# Definerer endpoint og parametere\n",
    "endpoint = 'https://frost.met.no/observations/v0.jsonld'\n",
    "parameters = {\n",
    "    'sources': 'SN18700',\n",
    "    'elements': 'mean(air_temperature P1D),sum(precipitation_amount P1D),mean(wind_speed P1D)',\n",
    "    'referencetime': '1975-01-01/2020-12-31',\n",
    "}\n",
    "# Sender request\n",
    "r = requests.get(endpoint, parameters, auth=(client_id,''))\n",
    "# Får inn json data\n",
    "json = r.json()\n",
    "\n",
    "# Sjekker requesten, om den er 200 er det godkjent og dataen er mottatt. Sjekker errorene hvis status_code ikke er \n",
    "if r.status_code == 200:\n",
    "    data = json['data']\n",
    "    print('Data retrieved from frost.met.no!')\n",
    "else:\n",
    "    print('Error! Returned status code %s' % r.status_code)\n",
    "    print('Message: %s' % json['error']['message'])\n",
    "    print('Reason: %s' % json['error']['reason'])\n"
   ]
  },
  {
   "cell_type": "markdown",
   "metadata": {},
   "source": [
    "# Vis data\n",
    "\n",
    "Her viser vi at dataen eksisterer "
   ]
  },
  {
   "cell_type": "code",
   "execution_count": 6,
   "metadata": {},
   "outputs": [
    {
     "name": "stdout",
     "output_type": "stream",
     "text": [
      "       index                      elementId  value  unit  \\\n",
      "0          0      mean(air_temperature P1D)   -2.3  degC   \n",
      "1          1      mean(air_temperature P1D)   -0.4  degC   \n",
      "2          2  sum(precipitation_amount P1D)    0.0    mm   \n",
      "3          3  sum(precipitation_amount P1D)    7.4    mm   \n",
      "4          4           mean(wind_speed P1D)    1.0   m/s   \n",
      "...      ...                            ...    ...   ...   \n",
      "83989      0      mean(air_temperature P1D)    1.7  degC   \n",
      "83990      1      mean(air_temperature P1D)    2.3  degC   \n",
      "83991      2  sum(precipitation_amount P1D)    5.9    mm   \n",
      "83992      3  sum(precipitation_amount P1D)    5.6    mm   \n",
      "83993      4           mean(wind_speed P1D)    5.1   m/s   \n",
      "\n",
      "                                                   level timeOffset  \\\n",
      "0      {'levelType': 'height_above_ground', 'unit': '...       PT0H   \n",
      "1      {'levelType': 'height_above_ground', 'unit': '...       PT6H   \n",
      "2                                                    NaN      PT18H   \n",
      "3                                                    NaN       PT6H   \n",
      "4      {'levelType': 'height_above_ground', 'unit': '...       PT0H   \n",
      "...                                                  ...        ...   \n",
      "83989  {'levelType': 'height_above_ground', 'unit': '...       PT0H   \n",
      "83990  {'levelType': 'height_above_ground', 'unit': '...       PT6H   \n",
      "83991                                                NaN      PT18H   \n",
      "83992                                                NaN       PT6H   \n",
      "83993  {'levelType': 'height_above_ground', 'unit': '...       PT0H   \n",
      "\n",
      "      timeResolution  timeSeriesId performanceCategory exposureCategory  \\\n",
      "0                P1D             0                   C                2   \n",
      "1                P1D             0                   C                2   \n",
      "2                P1D             0                   C                2   \n",
      "3                P1D             0                   C                2   \n",
      "4                P1D             0                   C                2   \n",
      "...              ...           ...                 ...              ...   \n",
      "83989            P1D             0                   C                2   \n",
      "83990            P1D             0                   C                2   \n",
      "83991            P1D             0                   C                2   \n",
      "83992            P1D             0                   C                2   \n",
      "83993            P1D             0                   C                2   \n",
      "\n",
      "       qualityCode             referenceTime   sourceId  \n",
      "0              2.0  1975-01-01T00:00:00.000Z  SN18700:0  \n",
      "1              2.0  1975-01-01T00:00:00.000Z  SN18700:0  \n",
      "2              2.0  1975-01-01T00:00:00.000Z  SN18700:0  \n",
      "3              2.0  1975-01-01T00:00:00.000Z  SN18700:0  \n",
      "4              2.0  1975-01-01T00:00:00.000Z  SN18700:0  \n",
      "...            ...                       ...        ...  \n",
      "83989          0.0  2020-12-30T00:00:00.000Z  SN18700:0  \n",
      "83990          2.0  2020-12-30T00:00:00.000Z  SN18700:0  \n",
      "83991          2.0  2020-12-30T00:00:00.000Z  SN18700:0  \n",
      "83992          0.0  2020-12-30T00:00:00.000Z  SN18700:0  \n",
      "83993          2.0  2020-12-30T00:00:00.000Z  SN18700:0  \n",
      "\n",
      "[83994 rows x 13 columns]\n"
     ]
    }
   ],
   "source": [
    "# Viser dataen i en dataframe som en tabell\n",
    "df = pd.DataFrame()\n",
    "for i in range(len(data)):\n",
    "    row = pd.DataFrame(data[i]['observations'])\n",
    "    row['referenceTime'] = data[i]['referenceTime']\n",
    "    row['sourceId'] = data[i]['sourceId']\n",
    "    df = pd.concat([df, row])\n",
    "\n",
    "df = df.reset_index()\n",
    "\n",
    "print(df)\n",
    "\n",
    "df.to_csv('../data/data_45years.csv')"
   ]
  },
  {
   "cell_type": "markdown",
   "metadata": {},
   "source": [
    "# Analyserer data\n",
    "\n",
    "Vi ser at vi har mange unødvendige kolonner, som gjør dataen uoversiktlig. Derfor fjerner vi kolonnene: \n",
    "level, timeResolution, timeSeriesId, performanceCategory, exposureCategory, qualityCode, sourceId\n",
    "\n",
    "Deretter lagrer vi dette i en ny csv-fil som vi kaller data_45years_update1"
   ]
  },
  {
   "cell_type": "code",
   "execution_count": 7,
   "metadata": {},
   "outputs": [
    {
     "name": "stdout",
     "output_type": "stream",
     "text": [
      "       index                      elementId  value  unit timeOffset  \\\n",
      "0          0      mean(air_temperature P1D)   -2.3  degC       PT0H   \n",
      "1          1      mean(air_temperature P1D)   -0.4  degC       PT6H   \n",
      "2          2  sum(precipitation_amount P1D)    0.0    mm      PT18H   \n",
      "3          3  sum(precipitation_amount P1D)    7.4    mm       PT6H   \n",
      "4          4           mean(wind_speed P1D)    1.0   m/s       PT0H   \n",
      "...      ...                            ...    ...   ...        ...   \n",
      "83989      0      mean(air_temperature P1D)    1.7  degC       PT0H   \n",
      "83990      1      mean(air_temperature P1D)    2.3  degC       PT6H   \n",
      "83991      2  sum(precipitation_amount P1D)    5.9    mm      PT18H   \n",
      "83992      3  sum(precipitation_amount P1D)    5.6    mm       PT6H   \n",
      "83993      4           mean(wind_speed P1D)    5.1   m/s       PT0H   \n",
      "\n",
      "                  referenceTime  \n",
      "0      1975-01-01T00:00:00.000Z  \n",
      "1      1975-01-01T00:00:00.000Z  \n",
      "2      1975-01-01T00:00:00.000Z  \n",
      "3      1975-01-01T00:00:00.000Z  \n",
      "4      1975-01-01T00:00:00.000Z  \n",
      "...                         ...  \n",
      "83989  2020-12-30T00:00:00.000Z  \n",
      "83990  2020-12-30T00:00:00.000Z  \n",
      "83991  2020-12-30T00:00:00.000Z  \n",
      "83992  2020-12-30T00:00:00.000Z  \n",
      "83993  2020-12-30T00:00:00.000Z  \n",
      "\n",
      "[83994 rows x 6 columns]\n"
     ]
    }
   ],
   "source": [
    "# Fjerner unødvendige kolonner\n",
    "df = df.drop(['level','timeResolution','timeSeriesId','performanceCategory','exposureCategory','qualityCode','sourceId'], axis=1)\n",
    "print(df)\n",
    "\n",
    "\n",
    "df.to_csv('../data/data_45years_update1.csv')\n",
    "\n"
   ]
  },
  {
   "cell_type": "markdown",
   "metadata": {},
   "source": [
    "# Legger til en kolonne 'dato'\n",
    "\n",
    "Vi legger til en kolonne som viser dato, uten klokkeslett"
   ]
  },
  {
   "cell_type": "code",
   "execution_count": 8,
   "metadata": {},
   "outputs": [],
   "source": [
    "#oppretter en ny kolone med dato uten tiden\n",
    "\n",
    "df['date'] = pd.to_datetime(df['referenceTime']).dt.date\n",
    "\n",
    "cols = ['date'] + [col for col in df.columns if col != 'date']\n",
    "df = df[cols]\n",
    "\n",
    "df.to_csv('../data/test_date.csv')"
   ]
  },
  {
   "cell_type": "markdown",
   "metadata": {},
   "source": [
    "# Fjerner verdier som ikke gir mening\n",
    "Vi velger å fjerne rader for temperatur der verdiene enten er under -50 eller over 60, fordi dette gir ikke mening og er sannsynligvis feil måling"
   ]
  },
  {
   "cell_type": "code",
   "execution_count": 20,
   "metadata": {},
   "outputs": [
    {
     "name": "stdout",
     "output_type": "stream",
     "text": [
      "             date  index                  elementId  value  unit timeOffset  \\\n",
      "0      1975-01-01      0  mean(air_temperature P1D)   -2.3  degC       PT0H   \n",
      "1      1975-01-01      1  mean(air_temperature P1D)   -0.4  degC       PT6H   \n",
      "5      1975-01-02      0  mean(air_temperature P1D)   -0.2  degC       PT0H   \n",
      "6      1975-01-02      1  mean(air_temperature P1D)   -1.3  degC       PT6H   \n",
      "10     1975-01-03      0  mean(air_temperature P1D)    2.2  degC       PT0H   \n",
      "...           ...    ...                        ...    ...   ...        ...   \n",
      "83980  2020-12-28      1  mean(air_temperature P1D)    1.9  degC       PT6H   \n",
      "83984  2020-12-29      0  mean(air_temperature P1D)    2.3  degC       PT0H   \n",
      "83985  2020-12-29      1  mean(air_temperature P1D)    1.6  degC       PT6H   \n",
      "83989  2020-12-30      0  mean(air_temperature P1D)    1.7  degC       PT0H   \n",
      "83990  2020-12-30      1  mean(air_temperature P1D)    2.3  degC       PT6H   \n",
      "\n",
      "                  referenceTime  \n",
      "0      1975-01-01T00:00:00.000Z  \n",
      "1      1975-01-01T00:00:00.000Z  \n",
      "5      1975-01-02T00:00:00.000Z  \n",
      "6      1975-01-02T00:00:00.000Z  \n",
      "10     1975-01-03T00:00:00.000Z  \n",
      "...                         ...  \n",
      "83980  2020-12-28T00:00:00.000Z  \n",
      "83984  2020-12-29T00:00:00.000Z  \n",
      "83985  2020-12-29T00:00:00.000Z  \n",
      "83989  2020-12-30T00:00:00.000Z  \n",
      "83990  2020-12-30T00:00:00.000Z  \n",
      "\n",
      "[33599 rows x 7 columns]\n"
     ]
    }
   ],
   "source": [
    "# Bruk df.loc for å filtrere basert på 'elementId' og sjekk temperaturverdiene\n",
    "df_filtered = df.loc[(df['elementId'] == 'mean(air_temperature P1D)') & \n",
    "                     (df['value'] >= -50) & \n",
    "                     (df['value'] <= 60)]\n",
    "\n",
    "# Skriv ut den filtrerte DataFrame-en\n",
    "print(df_filtered)\n",
    "\n",
    "#må få det over i csv fil og sjekke om det var noen som ble fjernet"
   ]
  },
  {
   "cell_type": "markdown",
   "metadata": {},
   "source": [
    "# Finner gjennomsnittsverdier per dag\n",
    "Vi ønsker å hente gjennomsnittet av målinger av de ulike elementene for hver dag, men ser at i filen er det for air_temperature og presipitation_amount to verdier per dag. Derfor vil vi finne gjennomsnittet av de elementene der vi har to verdier per dag. Med funksjonen pandas funksjon groupby fjernes også automatisk kolonnene timeOffset og referenceTime, slik vi ønsker."
   ]
  },
  {
   "cell_type": "code",
   "execution_count": 9,
   "metadata": {},
   "outputs": [
    {
     "name": "stdout",
     "output_type": "stream",
     "text": [
      "             date                      elementId  value  unit\n",
      "0      1975-01-01      mean(air_temperature P1D)  -1.35  degC\n",
      "1      1975-01-01           mean(wind_speed P1D)   1.00   m/s\n",
      "2      1975-01-01  sum(precipitation_amount P1D)   3.70    mm\n",
      "3      1975-01-02      mean(air_temperature P1D)  -0.75  degC\n",
      "4      1975-01-02           mean(wind_speed P1D)   1.00   m/s\n",
      "...           ...                            ...    ...   ...\n",
      "50392  2020-12-29           mean(wind_speed P1D)   5.30   m/s\n",
      "50393  2020-12-29  sum(precipitation_amount P1D)   5.80    mm\n",
      "50394  2020-12-30      mean(air_temperature P1D)   2.00  degC\n",
      "50395  2020-12-30           mean(wind_speed P1D)   5.10   m/s\n",
      "50396  2020-12-30  sum(precipitation_amount P1D)   5.75    mm\n",
      "\n",
      "[50397 rows x 4 columns]\n"
     ]
    }
   ],
   "source": [
    "# Gruppér og ta gjennomsnitt per dag og elementId\n",
    "aggregert = df.groupby(['date', 'elementId']).agg({\n",
    "    'value': 'mean',\n",
    "    'unit': 'first',  # beholder enheten\n",
    "}).round(3).reset_index()\n",
    "\n",
    "aggregert.to_csv('../data/gjsnitt_data.csv')\n",
    "\n",
    "print(aggregert)\n",
    "\n",
    "\n"
   ]
  },
  {
   "cell_type": "code",
   "execution_count": null,
   "metadata": {},
   "outputs": [],
   "source": []
  }
 ],
 "metadata": {
  "kernelspec": {
   "display_name": "venv",
   "language": "python",
   "name": "python3"
  },
  "language_info": {
   "codemirror_mode": {
    "name": "ipython",
    "version": 3
   },
   "file_extension": ".py",
   "mimetype": "text/x-python",
   "name": "python",
   "nbconvert_exporter": "python",
   "pygments_lexer": "ipython3",
   "version": "3.13.2"
  }
 },
 "nbformat": 4,
 "nbformat_minor": 2
}
