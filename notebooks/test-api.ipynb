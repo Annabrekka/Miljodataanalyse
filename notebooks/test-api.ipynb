{
 "cells": [
  {
   "cell_type": "code",
   "execution_count": null,
   "metadata": {},
   "outputs": [],
   "source": [
    "import requests\n",
    "\n",
    "def get_posts():\n",
    "    url = 'https://jsonplaceholder.typicode.com/posts'\n",
    "\n",
    "    try:\n",
    "        response = requests.get(url)\n",
    "\n",
    "        if response.status_code == 200:\n",
    "            posts = response.json()\n",
    "            return posts\n",
    "        else:\n",
    "            print('Error:', response.status_code)\n",
    "            return None\n",
    "    except requests.exceptions.RequestException as e:\n",
    "        print('Error:', e)\n",
    "        return None\n",
    "\n",
    "def main():\n",
    "    posts = get_posts()\n",
    "\n",
    "    if posts:\n",
    "        print('First Post Title:', posts[0]['title'])\n",
    "        print('First Post Body:', posts[0]['body'])\n",
    "    else:\n",
    "        print('Failed to fetch posts from API.')\n",
    "\n",
    "if __name__ == '__main__':\n",
    "    main()\n"
   ]
  }
 ],
 "metadata": {
  "language_info": {
   "name": "python"
  }
 },
 "nbformat": 4,
 "nbformat_minor": 2
}
