{
 "cells": [
  {
   "cell_type": "markdown",
   "metadata": {},
   "source": [
    "# Henter data\n",
    "\n",
    "I denne notebooken er det brukt klasser fra filen \"Weather_analysis.py\" fra mappen \"src\"."
   ]
  },
  {
   "cell_type": "markdown",
   "metadata": {},
   "source": [
    "Henter inn data om luftkvalitet fra Blindern i Oslo i løpet av hele 2017. "
   ]
  },
  {
   "cell_type": "code",
   "execution_count": 11,
   "metadata": {},
   "outputs": [
    {
     "name": "stdout",
     "output_type": "stream",
     "text": [
      "Dataen er lagret i luftkvalitet_2017.json\n"
     ]
    }
   ],
   "source": [
    "import requests\n",
    "import pandas as pd\n",
    "import json\n",
    "import sys\n",
    "\n",
    "# API URL\n",
    "url = \"https://api.nilu.no/aq/historical/2017-01-01/2017-12-31/59.89869/10.81495/3.0?components=no2;pm10\"\n",
    "\n",
    "# Sender et get-kall til API-endepunketet og lagrer svaret response. \n",
    "response = requests.get(url)\n",
    "\n",
    "def get_data():\n",
    "    # Dersom statuskoden er 200 vil dataen lagres.\n",
    "    if response.status_code == 200:\n",
    "        \n",
    "        data = response.json()  \n",
    "\n",
    "        with open(\"../data/luftkvalitet_2017.json\",\"w\") as f:\n",
    "            json.dump(data, f, indent=4)\n",
    "        print(\"Dataen er lagret i luftkvalitet_2017.json\")\n",
    "    # Dersom statuskoden er noe annet enn 200 vil vi få beskjed om at noe gikk galt. \n",
    "    else:\n",
    "        print(\"noe gikk galt med API-kallet. Feilkoden er:\", response.status_code)\n",
    "\n",
    "get_data()"
   ]
  },
  {
   "cell_type": "markdown",
   "metadata": {},
   "source": [
    "# Oppretter kolonner for målingene av NO2 og PM10\n",
    "JSON-filen fra API-et var uoversiktlig, og viste verdier for NO2 og PM10 svært uleselig. Derfor ble funksjonen \"extract_component_data\" for å lage to ryddige dataframer, en for PM10 og en for NO2. Videre byttet vi funksjonen \"rename_columns\" for å endre kolonnenavnet på fra \"values\" til \"PM10\" og \"NO2\". Legger så til kolonnen \"PM10\" fra dataframen \"df_PM10\" over til dataframen \"df_NO\" slik at vi har målingene i samme dataframe. Endrer så navn på dataframen til \"maalinger_2017\". "
   ]
  },
  {
   "cell_type": "code",
   "execution_count": 12,
   "metadata": {},
   "outputs": [],
   "source": [
    "import pandas as pd\n",
    "import json\n",
    "\n",
    "sys.path.append(\"../src\")\n",
    "\n",
    "from Weather_analysis import DataCleaner \n",
    "\n",
    "with open(\"../data/luftkvalitet_2017.json\", \"r\") as file:\n",
    "    data = json.load(file)\n",
    "\n",
    "# Bruker funskjonen extract_component \n",
    "extractor = DataCleaner(data)  \n",
    "df_NO2 = extractor.extract_component_data(\"NO2\")\n",
    "df_PM10 = extractor.extract_component_data(\"PM10\")\n",
    "\n",
    "# Endrer navn på de nye kolonnene\n",
    "df_NO2 = extractor.rename_columns(df_NO2, {'value': 'NO2'})\n",
    "df_PM10 = extractor.rename_columns(df_PM10, {'value': 'PM10'})\n",
    "\n",
    "# Legger til kolonnene i same dataframe\n",
    "df_NO2['PM10'] = df_PM10['PM10']\n",
    "\n",
    "# Endrer navn\n",
    "maalinger_2017=df_NO2\n"
   ]
  },
  {
   "cell_type": "markdown",
   "metadata": {},
   "source": [
    "# Fjerner unødvendige kolonner\n",
    "Fjerner kolonnene \"qualityControlled\", \"index\", \"color\" og \"component\" for å gjøre tabellen mer oversiktelig. Legger også til kolonnen \"unit\" som oppgir enheten til PM10- og NO2-målingene. I tillegg runder jeg av måleverdiene til maks 3 desimaler. "
   ]
  },
  {
   "cell_type": "code",
   "execution_count": 13,
   "metadata": {},
   "outputs": [],
   "source": [
    "\n",
    "# Fjerner kolonner\n",
    "cleaner = DataCleaner(maalinger_2017)\n",
    "kolonner_som_skal_bort = ['qualityControlled', 'index', 'color', 'component']\n",
    "maalinger_2017 = cleaner.drop_columns(kolonner_som_skal_bort)\n",
    "\n",
    "# Legger til kolonnen unit\n",
    "maalinger_2017['unit']='µg/m³'\n",
    "# Endrer til maks tre desimaler\n",
    "maalinger_2017[['NO2', 'PM10']] = maalinger_2017[['NO2', 'PM10']].round(3)\n"
   ]
  },
  {
   "cell_type": "markdown",
   "metadata": {},
   "source": [
    "# Endrer på tidssoppsettet\n",
    " Endrer på tidsoppsettet ettersom tidsoppsettet med 'fromTime' og 'toTime' ikke var oversiktelig. Konverterer verdiene i 'fromTime' kolonnen fra tekststrenger til datetime-objekter slik at det blir lettere å jobbe med.  Lager kolonnene 'Date' som oppgir dato og 'time' som oppgir klokkeslett for målingene. Etter at de nye kolonnene er opprettet sletter vi kolonnene 'fromTime' og 'toTime'. Vi velger så å bytte plass på kolonne slik at vi får de i rekkefølgen 'Date', 'Time', 'NO2', 'PM10' og 'unit'. \n",
    " "
   ]
  },
  {
   "cell_type": "code",
   "execution_count": 14,
   "metadata": {},
   "outputs": [],
   "source": [
    "# Konverterer verdiene i 'fromTime' kolonnen fra tekststrenger til datetime-objekter.\n",
    "maalinger_2017['fromTime'] = pd.to_datetime(maalinger_2017['fromTime'])\n",
    "\n",
    "# Oppretter en ny kolonne 'Date' som viser datoen til målingene. \n",
    "maalinger_2017['Date'] = maalinger_2017['fromTime'].dt.date\n",
    "\n",
    "# Oppretter en ny kolonne 'Time' som viser klokkeslettet for målingene. \n",
    "maalinger_2017['Time'] = maalinger_2017['fromTime'].dt.strftime('%H:%M')\n",
    "\n",
    "# Sletter kolonnene 'fromTime' og 'toTime'.\n",
    "cleaner = DataCleaner(maalinger_2017)\n",
    "kolonner_som_skal_bort = ['fromTime','toTime']\n",
    "maalinger_2017 = cleaner.drop_columns(kolonner_som_skal_bort)\n",
    "\n",
    "# Endrer rekkefølge på kolonnene\n",
    "maalinger_2017 = maalinger_2017[['Date', 'Time', 'NO2', 'PM10','unit']]\n"
   ]
  },
  {
   "cell_type": "markdown",
   "metadata": {},
   "source": [
    "# Sjekker for manglende verdier og unormale verdier\n",
    "Sjekker for manglende verdier, og finner ut at vi ikke mangler noe. I tillegg vil jeg sjekke om målingene av NO2 og PM10 gir mening. Jeg sjekker om alle målingene for hver time er under 400 µg/m. Verdier som er høyere enn 400 µg/m blir ikke lenger kategorisert av miljødirektoratets miljøklasser ettersom de regnes som urealistiske. Men finner ut at alle målingene er innenfor gyldighetsområdet. "
   ]
  },
  {
   "cell_type": "code",
   "execution_count": 17,
   "metadata": {},
   "outputs": [
    {
     "name": "stdout",
     "output_type": "stream",
     "text": [
      "Manglende verdier:\n",
      " Date    0\n",
      "Time    0\n",
      "NO2     0\n",
      "PM10    0\n",
      "unit    0\n",
      "dtype: int64\n",
      "Ekstreme verdier i NO2 over 400:\n",
      " Empty DataFrame\n",
      "Columns: [Date, Time, NO2, PM10, unit]\n",
      "Index: []\n",
      "Ekstreme verdier i PM10 over 400:\n",
      " Empty DataFrame\n",
      "Columns: [Date, Time, NO2, PM10, unit]\n",
      "Index: []\n"
     ]
    },
    {
     "data": {
      "text/html": [
       "<div>\n",
       "<style scoped>\n",
       "    .dataframe tbody tr th:only-of-type {\n",
       "        vertical-align: middle;\n",
       "    }\n",
       "\n",
       "    .dataframe tbody tr th {\n",
       "        vertical-align: top;\n",
       "    }\n",
       "\n",
       "    .dataframe thead th {\n",
       "        text-align: right;\n",
       "    }\n",
       "</style>\n",
       "<table border=\"1\" class=\"dataframe\">\n",
       "  <thead>\n",
       "    <tr style=\"text-align: right;\">\n",
       "      <th></th>\n",
       "      <th>Date</th>\n",
       "      <th>Time</th>\n",
       "      <th>NO2</th>\n",
       "      <th>PM10</th>\n",
       "      <th>unit</th>\n",
       "    </tr>\n",
       "  </thead>\n",
       "  <tbody>\n",
       "    <tr>\n",
       "      <th>0</th>\n",
       "      <td>2017-01-01</td>\n",
       "      <td>00:00</td>\n",
       "      <td>33.656</td>\n",
       "      <td>305.36</td>\n",
       "      <td>µg/m³</td>\n",
       "    </tr>\n",
       "    <tr>\n",
       "      <th>1</th>\n",
       "      <td>2017-01-01</td>\n",
       "      <td>01:00</td>\n",
       "      <td>66.924</td>\n",
       "      <td>258.06</td>\n",
       "      <td>µg/m³</td>\n",
       "    </tr>\n",
       "    <tr>\n",
       "      <th>2</th>\n",
       "      <td>2017-01-01</td>\n",
       "      <td>02:00</td>\n",
       "      <td>45.079</td>\n",
       "      <td>103.84</td>\n",
       "      <td>µg/m³</td>\n",
       "    </tr>\n",
       "    <tr>\n",
       "      <th>3</th>\n",
       "      <td>2017-01-01</td>\n",
       "      <td>03:00</td>\n",
       "      <td>63.750</td>\n",
       "      <td>54.23</td>\n",
       "      <td>µg/m³</td>\n",
       "    </tr>\n",
       "    <tr>\n",
       "      <th>4</th>\n",
       "      <td>2017-01-01</td>\n",
       "      <td>04:00</td>\n",
       "      <td>60.041</td>\n",
       "      <td>35.75</td>\n",
       "      <td>µg/m³</td>\n",
       "    </tr>\n",
       "    <tr>\n",
       "      <th>...</th>\n",
       "      <td>...</td>\n",
       "      <td>...</td>\n",
       "      <td>...</td>\n",
       "      <td>...</td>\n",
       "      <td>...</td>\n",
       "    </tr>\n",
       "    <tr>\n",
       "      <th>8689</th>\n",
       "      <td>2017-12-30</td>\n",
       "      <td>19:00</td>\n",
       "      <td>51.414</td>\n",
       "      <td>12.43</td>\n",
       "      <td>µg/m³</td>\n",
       "    </tr>\n",
       "    <tr>\n",
       "      <th>8690</th>\n",
       "      <td>2017-12-30</td>\n",
       "      <td>20:00</td>\n",
       "      <td>27.270</td>\n",
       "      <td>14.30</td>\n",
       "      <td>µg/m³</td>\n",
       "    </tr>\n",
       "    <tr>\n",
       "      <th>8691</th>\n",
       "      <td>2017-12-30</td>\n",
       "      <td>21:00</td>\n",
       "      <td>20.334</td>\n",
       "      <td>12.65</td>\n",
       "      <td>µg/m³</td>\n",
       "    </tr>\n",
       "    <tr>\n",
       "      <th>8692</th>\n",
       "      <td>2017-12-30</td>\n",
       "      <td>22:00</td>\n",
       "      <td>23.900</td>\n",
       "      <td>11.55</td>\n",
       "      <td>µg/m³</td>\n",
       "    </tr>\n",
       "    <tr>\n",
       "      <th>8693</th>\n",
       "      <td>2017-12-30</td>\n",
       "      <td>23:00</td>\n",
       "      <td>12.305</td>\n",
       "      <td>14.85</td>\n",
       "      <td>µg/m³</td>\n",
       "    </tr>\n",
       "  </tbody>\n",
       "</table>\n",
       "<p>8694 rows × 5 columns</p>\n",
       "</div>"
      ],
      "text/plain": [
       "            Date   Time     NO2    PM10   unit\n",
       "0     2017-01-01  00:00  33.656  305.36  µg/m³\n",
       "1     2017-01-01  01:00  66.924  258.06  µg/m³\n",
       "2     2017-01-01  02:00  45.079  103.84  µg/m³\n",
       "3     2017-01-01  03:00  63.750   54.23  µg/m³\n",
       "4     2017-01-01  04:00  60.041   35.75  µg/m³\n",
       "...          ...    ...     ...     ...    ...\n",
       "8689  2017-12-30  19:00  51.414   12.43  µg/m³\n",
       "8690  2017-12-30  20:00  27.270   14.30  µg/m³\n",
       "8691  2017-12-30  21:00  20.334   12.65  µg/m³\n",
       "8692  2017-12-30  22:00  23.900   11.55  µg/m³\n",
       "8693  2017-12-30  23:00  12.305   14.85  µg/m³\n",
       "\n",
       "[8694 rows x 5 columns]"
      ]
     },
     "execution_count": 17,
     "metadata": {},
     "output_type": "execute_result"
    }
   ],
   "source": [
    "\n",
    "sys.path.append('../src')\n",
    "\n",
    "from Weather_analysis import DataQualityChecker \n",
    "\n",
    "# Bruker funskjonen check_missing_values fra klassen DataQualityChecker.\n",
    "# Denne funskjonen sjekker for manglende verdier. \n",
    "checker = DataQualityChecker(maalinger_2017)\n",
    "missing = checker.check_missing_values()\n",
    "\n",
    "# Bruker funksjonen find_extreme_values fra klassen DataQualityChecker. \n",
    "# Sjekker etter ekstreme verdier for NO2 og PM10\n",
    "extreme_no2 = checker.find_extreme_values('NO2', 400)\n",
    "extreme_pm10 = checker.find_extreme_values('PM10', 400)\n",
    "\n",
    "maalinger_2017\n",
    "\n"
   ]
  },
  {
   "cell_type": "markdown",
   "metadata": {},
   "source": [
    "# Gjennomsnitt per dag\n",
    "Dataen som er hentet inneholder målinger for hver time, derfor lager vi en ny oversikt med gjennomsnittet av målingene per døgn slik at den blir mer oversiktelig. Legger også til en kolonne som forteller oss enheten til målingene. Deretter velger jeg at målingene skal kun inneholde 3 desimaler. Til slutt konvertere jeg dataen daglig_gjennomsnitt til en csv-fil. Vi har altså nå ryddet og renset dataen slik at den er mye enklere å bruke videre. \n"
   ]
  },
  {
   "cell_type": "code",
   "execution_count": 16,
   "metadata": {},
   "outputs": [],
   "source": [
    "# Grupper etter 'Date' og beregner gjennomsnittet for hver dag\n",
    "daglig_gjennomsnitt = maalinger_2017.groupby('Date')[['NO2', 'PM10']].mean().reset_index()\n",
    "\n",
    "#legger til en kolonne med enheter for verdiene\n",
    "daglig_gjennomsnitt['Enhet'] = 'µg/m³'\n",
    "\n",
    "\n",
    "# Runder av verdiene til 3 desimaler\n",
    "daglig_gjennomsnitt[['NO2', 'PM10']] = daglig_gjennomsnitt[['NO2', 'PM10']].round(3)\n",
    "\n",
    "#Koverterer dataen i \"daglige_gjennomsnitt\" til CSV_format. \n",
    "daglig_gjennomsnitt.to_csv('../data/daglig_gjennomsnitt_2017.csv')\n",
    "\n"
   ]
  }
 ],
 "metadata": {
  "kernelspec": {
   "display_name": "venv",
   "language": "python",
   "name": "python3"
  },
  "language_info": {
   "codemirror_mode": {
    "name": "ipython",
    "version": 3
   },
   "file_extension": ".py",
   "mimetype": "text/x-python",
   "name": "python",
   "nbconvert_exporter": "python",
   "pygments_lexer": "ipython3",
   "version": "3.13.2"
  }
 },
 "nbformat": 4,
 "nbformat_minor": 2
}
