{
 "cells": [
  {
   "cell_type": "code",
   "execution_count": null,
   "metadata": {},
   "outputs": [],
   "source": [
    "#hente opp gjsnitt_data\n",
    "#finne gjennomsnittet over de ulike månedene\n",
    "#finne median\n",
    "#"
   ]
  },
  {
   "cell_type": "code",
   "execution_count": null,
   "metadata": {},
   "outputs": [],
   "source": [
    "#hvordan fjerne missing values\n",
    "#https://rouhani.folk.ntnu.no/textbooks/tdt4114/content/chap_data_analysis_visualization/notebooks/pandas.html"
   ]
  },
  {
   "cell_type": "markdown",
   "metadata": {},
   "source": [
    "# Finner gjennomnsitt per måned per år\n",
    "Vi ønsker å finne gjennomsnittet for temperatur per måned per år.\n",
    "Framgangsmåten er å konvertere kolonnen for dato til datetime-format, slik at vi enkelt kan hente ut år, måned og dag. Videre derfra opprettes en dataframe kun av elementId når den er for temperatur. Så deler vi opp etter år og måned og bruker pandas funksjonen groupby og finner gjennomsnittet for alle verdier innenfor samme måned per år. \n",
    "Gjør det samme for vindhastighet og nedbørsmengde også. For disse to paramenterene printer jeg kun head() fordi det er mye data å print, men head viser de 5 første linjene "
   ]
  },
  {
   "cell_type": "code",
   "execution_count": 31,
   "metadata": {},
   "outputs": [
    {
     "name": "stdout",
     "output_type": "stream",
     "text": [
      "Gjennomsnittet for temperatur\n",
      "     year  month   value\n",
      "0    1975      1   0.110\n",
      "1    1975      2  -3.664\n",
      "2    1975      3   0.403\n",
      "3    1975      4   4.172\n",
      "4    1975      5  11.313\n",
      "..    ...    ...     ...\n",
      "547  2020      8  17.253\n",
      "548  2020      9  12.817\n",
      "549  2020     10   8.148\n",
      "550  2020     11   5.252\n",
      "551  2020     12   2.317\n",
      "\n",
      "[552 rows x 3 columns]\n",
      "Gjennomsnittet for vind\n",
      "   year  month  value\n",
      "0  1975      1  3.248\n",
      "1  1975      2  0.914\n",
      "2  1975      3  2.297\n",
      "3  1975      4  3.283\n",
      "4  1975      5  3.571\n",
      "Gjennomsnittet for nedbør\n",
      "   year  month  value\n",
      "0  1975      1  3.332\n",
      "1  1975      2  0.614\n",
      "2  1975      3  1.081\n",
      "3  1975      4  1.062\n",
      "4  1975      5  1.089\n"
     ]
    },
    {
     "name": "stderr",
     "output_type": "stream",
     "text": [
      "/var/folders/s3/tgf3tksd2n9dtpyk3t5pcg000000gn/T/ipykernel_2531/1878803184.py:15: SettingWithCopyWarning: \n",
      "A value is trying to be set on a copy of a slice from a DataFrame.\n",
      "Try using .loc[row_indexer,col_indexer] = value instead\n",
      "\n",
      "See the caveats in the documentation: https://pandas.pydata.org/pandas-docs/stable/user_guide/indexing.html#returning-a-view-versus-a-copy\n",
      "  df_temp.loc[:, \"year\"] = df_temp[\"date\"].dt.year\n",
      "/var/folders/s3/tgf3tksd2n9dtpyk3t5pcg000000gn/T/ipykernel_2531/1878803184.py:16: SettingWithCopyWarning: \n",
      "A value is trying to be set on a copy of a slice from a DataFrame.\n",
      "Try using .loc[row_indexer,col_indexer] = value instead\n",
      "\n",
      "See the caveats in the documentation: https://pandas.pydata.org/pandas-docs/stable/user_guide/indexing.html#returning-a-view-versus-a-copy\n",
      "  df_temp.loc[:, \"month\"] = df_temp[\"date\"].dt.month\n",
      "/var/folders/s3/tgf3tksd2n9dtpyk3t5pcg000000gn/T/ipykernel_2531/1878803184.py:31: SettingWithCopyWarning: \n",
      "A value is trying to be set on a copy of a slice from a DataFrame.\n",
      "Try using .loc[row_indexer,col_indexer] = value instead\n",
      "\n",
      "See the caveats in the documentation: https://pandas.pydata.org/pandas-docs/stable/user_guide/indexing.html#returning-a-view-versus-a-copy\n",
      "  df_wind.loc[:, \"year\"] = df_wind[\"date\"].dt.year\n",
      "/var/folders/s3/tgf3tksd2n9dtpyk3t5pcg000000gn/T/ipykernel_2531/1878803184.py:32: SettingWithCopyWarning: \n",
      "A value is trying to be set on a copy of a slice from a DataFrame.\n",
      "Try using .loc[row_indexer,col_indexer] = value instead\n",
      "\n",
      "See the caveats in the documentation: https://pandas.pydata.org/pandas-docs/stable/user_guide/indexing.html#returning-a-view-versus-a-copy\n",
      "  df_wind.loc[:, \"month\"] = df_wind[\"date\"].dt.month\n",
      "/var/folders/s3/tgf3tksd2n9dtpyk3t5pcg000000gn/T/ipykernel_2531/1878803184.py:46: SettingWithCopyWarning: \n",
      "A value is trying to be set on a copy of a slice from a DataFrame.\n",
      "Try using .loc[row_indexer,col_indexer] = value instead\n",
      "\n",
      "See the caveats in the documentation: https://pandas.pydata.org/pandas-docs/stable/user_guide/indexing.html#returning-a-view-versus-a-copy\n",
      "  df_precipitation.loc[:, \"year\"] = df_precipitation[\"date\"].dt.year\n",
      "/var/folders/s3/tgf3tksd2n9dtpyk3t5pcg000000gn/T/ipykernel_2531/1878803184.py:47: SettingWithCopyWarning: \n",
      "A value is trying to be set on a copy of a slice from a DataFrame.\n",
      "Try using .loc[row_indexer,col_indexer] = value instead\n",
      "\n",
      "See the caveats in the documentation: https://pandas.pydata.org/pandas-docs/stable/user_guide/indexing.html#returning-a-view-versus-a-copy\n",
      "  df_precipitation.loc[:, \"month\"] = df_precipitation[\"date\"].dt.month\n"
     ]
    }
   ],
   "source": [
    "import pandas as pd\n",
    "import numpy as np\n",
    "\n",
    "df = pd.read_csv(\"../data/gjsnitt_data.csv\")\n",
    "\n",
    "#Konverterer kolonnen \"date til datetime-format, slik at det ikke lenger er en tekststreng\"\n",
    "df[\"date\"] = pd.to_datetime(df[\"date\"])\n",
    "\n",
    "\n",
    "#Lager en ny dataframe som kun har med temperaturmålinger\n",
    "df_temp = df[df[\"elementId\"] == \"mean(air_temperature P1D)\"]\n",
    "\n",
    "\n",
    "#Filtrerer ut år og måned\n",
    "df_temp.loc[:, \"year\"] = df_temp[\"date\"].dt.year\n",
    "df_temp.loc[:, \"month\"] = df_temp[\"date\"].dt.month\n",
    "\n",
    "\n",
    "#Finner gjennomsnittet per måned per år, og runder så av til 3 desimaler\n",
    "monthly_average_temp_per_year = df_temp.groupby([\"year\", \"month\"])[\"value\"].mean().reset_index()\n",
    "monthly_average_temp_per_year[\"value\"] = monthly_average_temp_per_year[\"value\"].round(3)\n",
    "\n",
    "print(\"Gjennomsnittet for temperatur\")\n",
    "print(monthly_average_temp_per_year)\n",
    "\n",
    "\n",
    "#Finner gjennomsnittet for vind\n",
    "\n",
    "df_wind = df[df[\"elementId\"] == \"mean(wind_speed P1D)\"]\n",
    "\n",
    "df_wind.loc[:, \"year\"] = df_wind[\"date\"].dt.year\n",
    "df_wind.loc[:, \"month\"] = df_wind[\"date\"].dt.month\n",
    "\n",
    "monthly_average_wind_per_year = df_wind.groupby([\"year\", \"month\"])[\"value\"].mean().reset_index()\n",
    "monthly_average_wind_per_year[\"value\"] = monthly_average_wind_per_year[\"value\"].round(3)\n",
    "\n",
    "print(\"Gjennomsnittet for vind\")\n",
    "#Printer bare head for å vise noe data\n",
    "print(monthly_average_wind_per_year.head())\n",
    "\n",
    "\n",
    "#Finner gjennomsnittet for nedbør\n",
    "\n",
    "df_precipitation = df[df[\"elementId\"] == \"sum(precipitation_amount P1D)\"]\n",
    "\n",
    "df_precipitation.loc[:, \"year\"] = df_precipitation[\"date\"].dt.year\n",
    "df_precipitation.loc[:, \"month\"] = df_precipitation[\"date\"].dt.month\n",
    "\n",
    "monthly_average_precipitation_per_year = df_precipitation.groupby([\"year\", \"month\"])[\"value\"].mean().reset_index()\n",
    "monthly_average_precipitation_per_year[\"value\"] = monthly_average_precipitation_per_year[\"value\"].round(3)\n",
    "\n",
    "print(\"Gjennomsnittet for nedbør\")\n",
    "#Printer bare head for å vise noe data\n",
    "print(monthly_average_precipitation_per_year.head())\n"
   ]
  },
  {
   "cell_type": "markdown",
   "metadata": {},
   "source": [
    "# Finner medianen per måned per år\n",
    "Vi ønsker også å finne medianen per måned per år. \n",
    "Vi bruker samme framgangsmåte som over, men i stedet for å bruke funksjonen mean() for gjennomsnitt, bruker vi median() for medianen."
   ]
  },
  {
   "cell_type": "code",
   "execution_count": 29,
   "metadata": {},
   "outputs": [
    {
     "name": "stdout",
     "output_type": "stream",
     "text": [
      "Median for temperatur\n",
      "     year  month   value\n",
      "0    1975      1   0.400\n",
      "1    1975      2  -3.875\n",
      "2    1975      3   0.400\n",
      "3    1975      4   4.600\n",
      "4    1975      5  11.450\n",
      "..    ...    ...     ...\n",
      "547  2020      8  18.750\n",
      "548  2020      9  12.800\n",
      "549  2020     10   7.950\n",
      "550  2020     11   5.475\n",
      "551  2020     12   2.025\n",
      "\n",
      "[552 rows x 3 columns]\n",
      "Median for vind\n",
      "   year  month  value\n",
      "0  1975      1  3.248\n",
      "1  1975      2  0.914\n",
      "2  1975      3  2.297\n",
      "3  1975      4  3.283\n",
      "4  1975      5  3.571\n",
      "Median for nedbørsmengde\n",
      "   year  month  value\n",
      "0  1975      1  3.332\n",
      "1  1975      2  0.614\n",
      "2  1975      3  1.081\n",
      "3  1975      4  1.062\n",
      "4  1975      5  1.089\n"
     ]
    }
   ],
   "source": [
    "#Finner medianen for temperatur per måned per år, og runder så av til 3 desimaler\n",
    "monthly_median_temp_per_year = df_temp.groupby([\"year\", \"month\"])[\"value\"].median().reset_index()\n",
    "monthly_median_temp_per_year[\"value\"] = monthly_median_temp_per_year[\"value\"].round(3)\n",
    "\n",
    "\n",
    "#Median for vind\n",
    "monthly_median_wind_per_year = df_wind.groupby([\"year\", \"month\"])[\"value\"].mean().reset_index()\n",
    "monthly_median_wind_per_year[\"value\"] = monthly_median_wind_per_year[\"value\"].round(3)\n",
    "\n",
    "#Median for nedbørsmengde\n",
    "monthly_median_precipitation_per_year = df_precipitation.groupby([\"year\", \"month\"])[\"value\"].mean().reset_index()\n",
    "monthly_median_precipitation_per_year[\"value\"] = monthly_median_precipitation_per_year[\"value\"].round(3)\n",
    "\n",
    "print(\"Median for temperatur\")\n",
    "print(monthly_median_temp_per_year)\n",
    "\n",
    "print(\"Median for vind\")\n",
    "print(monthly_median_wind_per_year.head())\n",
    "\n",
    "print(\"Median for nedbørsmengde\")\n",
    "print(monthly_median_precipitation_per_year.head())\n"
   ]
  },
  {
   "cell_type": "markdown",
   "metadata": {},
   "source": [
    "# Finner standardavvik\n",
    "Finner standardavvik for å se hvor mye verdiene varierer rundt gjennomsnittet"
   ]
  },
  {
   "cell_type": "code",
   "execution_count": 30,
   "metadata": {},
   "outputs": [
    {
     "name": "stdout",
     "output_type": "stream",
     "text": [
      "     year  month     value\n",
      "0    1975      1  2.558008\n",
      "1    1975      2  2.977908\n",
      "2    1975      3  0.891715\n",
      "3    1975      4  3.197485\n",
      "4    1975      5  3.298181\n",
      "..    ...    ...       ...\n",
      "547  2020      8  2.862747\n",
      "548  2020      9  1.542967\n",
      "549  2020     10  2.874007\n",
      "550  2020     11  3.593948\n",
      "551  2020     12  1.713704\n",
      "\n",
      "[552 rows x 3 columns]\n",
      "   year  month     value\n",
      "0  1975      1  1.568624\n",
      "1  1975      2  0.599206\n",
      "2  1975      3  1.640220\n",
      "3  1975      4  1.564715\n",
      "4  1975      5  1.273105\n",
      "   year  month     value\n",
      "0  1975      1  2.558008\n",
      "1  1975      2  2.977908\n",
      "2  1975      3  0.891715\n",
      "3  1975      4  3.197485\n",
      "4  1975      5  3.298181\n"
     ]
    }
   ],
   "source": [
    "monthly_std_temp_per_year = df_temp.groupby([\"year\", \"month\"])[\"value\"].std().reset_index()\n",
    "print(monthly_std_temp_per_year)\n",
    "\n",
    "monthly_std_wind_per_year = df_wind.groupby([\"year\", \"month\"])[\"value\"].std().reset_index()\n",
    "print(monthly_std_wind_per_year.head())\n",
    "\n",
    "monthly_std_precipitation_per_year = df_temp.groupby([\"year\", \"month\"])[\"value\"].std().reset_index()\n",
    "print(monthly_std_precipitation_per_year.head())\n"
   ]
  },
  {
   "cell_type": "code",
   "execution_count": null,
   "metadata": {},
   "outputs": [],
   "source": []
  }
 ],
 "metadata": {
  "kernelspec": {
   "display_name": "venv",
   "language": "python",
   "name": "python3"
  },
  "language_info": {
   "codemirror_mode": {
    "name": "ipython",
    "version": 3
   },
   "file_extension": ".py",
   "mimetype": "text/x-python",
   "name": "python",
   "nbconvert_exporter": "python",
   "pygments_lexer": "ipython3",
   "version": "3.13.2"
  }
 },
 "nbformat": 4,
 "nbformat_minor": 2
}
