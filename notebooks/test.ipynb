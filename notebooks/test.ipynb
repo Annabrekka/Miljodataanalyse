{
 "cells": [
  {
   "cell_type": "code",
   "execution_count": 5,
   "metadata": {},
   "outputs": [
    {
     "name": "stdout",
     "output_type": "stream",
     "text": [
      "Data retrieved from frost.met.no!\n"
     ]
    }
   ],
   "source": [
    "# Libraries needed (pandas is not standard and must be installed in Python)\n",
    "import requests\n",
    "import pandas as pd\n",
    "\n",
    "# Insert your own client ID here\n",
    "client_id = '61f26ba4-3f68-4e56-a3b8-09733ceb82ed'\n",
    "\n",
    "# Define endpoint and parameters\n",
    "endpoint = 'https://frost.met.no/observations/v0.jsonld'\n",
    "parameters = {\n",
    "    'sources': 'SN18700',\n",
    "    'elements': 'mean(air_temperature P1D),sum(precipitation_amount P1D),mean(wind_speed P1D)',\n",
    "    'referencetime': '1975-01-01/2020-12-24',\n",
    "}\n",
    "# Issue an HTTP GET request\n",
    "r = requests.get(endpoint, parameters, auth=(client_id,''))\n",
    "# Extract JSON data\n",
    "json = r.json()\n",
    "\n",
    "# Check if the request worked, print out any errors\n",
    "if r.status_code == 200:\n",
    "    data = json['data']\n",
    "    print('Data retrieved from frost.met.no!')\n",
    "else:\n",
    "    print('Error! Returned status code %s' % r.status_code)\n",
    "    print('Message: %s' % json['error']['message'])\n",
    "    print('Reason: %s' % json['error']['reason'])"
   ]
  },
  {
   "cell_type": "code",
   "execution_count": 7,
   "metadata": {},
   "outputs": [],
   "source": [
    "# This will return a Dataframe with all of the observations in a table format\n",
    "df = pd.DataFrame()\n",
    "for i in range(len(data)):\n",
    "    row = pd.DataFrame(data[i]['observations'])\n",
    "    row['referenceTime'] = data[i]['referenceTime']\n",
    "    row['sourceId'] = data[i]['sourceId']\n",
    "    df = pd.concat([df, row])\n",
    "\n",
    "df = df.reset_index()\n",
    "\n",
    "df\n",
    "\n",
    "df.to_csv('file1.csv')\n"
   ]
  },
  {
   "cell_type": "code",
   "execution_count": 4,
   "metadata": {},
   "outputs": [
    {
     "data": {
      "text/plain": [
       "array(['mean(air_temperature P1D)', 'sum(precipitation_amount P1D)',\n",
       "       'mean(wind_speed P1D)'], dtype=object)"
      ]
     },
     "execution_count": 4,
     "metadata": {},
     "output_type": "execute_result"
    }
   ],
   "source": [
    "df[\"elementId\"].unique()"
   ]
  },
  {
   "cell_type": "code",
   "execution_count": null,
   "metadata": {},
   "outputs": [],
   "source": []
  }
 ],
 "metadata": {
  "kernelspec": {
   "display_name": "venv",
   "language": "python",
   "name": "python3"
  },
  "language_info": {
   "codemirror_mode": {
    "name": "ipython",
    "version": 3
   },
   "file_extension": ".py",
   "mimetype": "text/x-python",
   "name": "python",
   "nbconvert_exporter": "python",
   "pygments_lexer": "ipython3",
   "version": "3.13.2"
  }
 },
 "nbformat": 4,
 "nbformat_minor": 2
}
