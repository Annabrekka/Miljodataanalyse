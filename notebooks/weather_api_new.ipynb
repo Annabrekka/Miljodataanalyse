{
 "cells": [
  {
   "cell_type": "code",
   "execution_count": null,
   "metadata": {},
   "outputs": [
    {
     "data": {
      "text/plain": [
       "{'@context': 'https://frost.met.no/schema',\n",
       " '@type': 'LocationResponse',\n",
       " 'apiVersion': 'v0',\n",
       " 'license': 'https://creativecommons.org/licenses/by/3.0/no/',\n",
       " 'createdAt': '2025-03-13T12:57:27Z',\n",
       " 'queryTime': 0.004,\n",
       " 'currentItemCount': 1,\n",
       " 'itemsPerPage': 1,\n",
       " 'offset': 0,\n",
       " 'totalItemCount': 1,\n",
       " 'currentLink': 'https://frost.met.no/locations/v0.jsonld?names=trondheim',\n",
       " 'data': [{'name': 'Trondheim',\n",
       "   'feature': 'City or large town',\n",
       "   'geometry': {'@type': 'Point',\n",
       "    'coordinates': [10.395058, 63.430483],\n",
       "    'nearest': False}}]}"
      ]
     },
     "execution_count": 2,
     "metadata": {},
     "output_type": "execute_result"
    }
   ],
   "source": [
    "import requests\n",
    "import os\n",
    "from dotenv import load_dotenv\n",
    "\n",
    "load_dotenv()\n",
    "\n",
    "client_ID = '338185da-8394-445d-9023-599c3c4dc135'\n",
    "\n",
    "def get_data():\n",
    "\n",
    "    url = 'https://frost.met.no/locations/v0.jsonld?names=trondheim'\n",
    "\n",
    "    try:\n",
    "        \n",
    "        response = requests.get(url, auth=(client_ID, ''))\n",
    "\n",
    "        if response.status_code == 200: #ved 200 er forespørsel velykket\n",
    "            weather_data = response.json()\n",
    "            return weather_data #lagrer dataen \n",
    "        \n",
    "        else:\n",
    "            print('Error:', response.status_code) #hvis status.code ikke er 200, da er forespørsel om api mislykket\n",
    "            return None\n",
    "        \n",
    "    except requests.exceptions.RequestException as e:\n",
    "        print('Error:', e)\n",
    "        return None\n",
    "\n",
    "\n",
    "\n",
    "get_data()"
   ]
  },
  {
   "cell_type": "code",
   "execution_count": null,
   "metadata": {},
   "outputs": [],
   "source": []
  }
 ],
 "metadata": {
  "kernelspec": {
   "display_name": "Python 3",
   "language": "python",
   "name": "python3"
  },
  "language_info": {
   "codemirror_mode": {
    "name": "ipython",
    "version": 3
   },
   "file_extension": ".py",
   "mimetype": "text/x-python",
   "name": "python",
   "nbconvert_exporter": "python",
   "pygments_lexer": "ipython3",
   "version": "3.12.9"
  }
 },
 "nbformat": 4,
 "nbformat_minor": 2
}
