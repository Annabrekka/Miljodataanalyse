{
 "cells": [
  {
   "cell_type": "markdown",
   "metadata": {},
   "source": [
    "# Gjennomsnitt, median og standardavvik\n",
    "I denne notebooken finner vi gjennomsnitt, median og standardavvik for værdataen. Dette er gjort ved bruk av klasser og funksjoner, som ligger i \"Average.py\" i mappen \"src\". "
   ]
  },
  {
   "cell_type": "markdown",
   "metadata": {},
   "source": [
    "Her importeres biblioteker og klassene som blir brukt i koden. I tillegg opprettes en dataframe fra gjennomsnittsdataen funnet i filen \"weather_api_45.ipynb\". Så konverterer vi kolonnen for dato til datetime-format slik at vi kan hente ut år, måned og dag. Klassen \"Data\" brukes inn i de tre andre klassene. Dette er fordi det her opprettes en ny dataframe, basert på hvilken elementID man vil hente ut informasjon om. Deretter brukes deles det opp etter år og måned og pandasfunksjonen groupby benyttes for å gruppere etter måned og år."
   ]
  },
  {
   "cell_type": "code",
   "execution_count": 5,
   "metadata": {},
   "outputs": [],
   "source": [
    "import pandas as pd\n",
    "import numpy as np\n",
    "\n",
    "# Finner pathen til klassen og importerer klassen\n",
    "import sys\n",
    "sys.path.append(\"../src\")\n",
    "from Average import Data, FindAverage, FindMedian, FindStd\n",
    "\n",
    "\n",
    "# Lager en dataframe av data fra \"gjsnitt_data\"\n",
    "df = pd.read_csv(\"../data/gjsnitt_data.csv\")\n",
    "\n",
    "#Konverterer kolonnen \"date til datetime-format, slik at det ikke lenger er en tekststreng\"\n",
    "df[\"date\"] = pd.to_datetime(df[\"date\"])"
   ]
  },
  {
   "cell_type": "markdown",
   "metadata": {},
   "source": [
    "## Finner gjennomnsitt per måned per år\n",
    "Bruker klassen \"Data\" og \"FindAverage\". \"FindAverage\" brukes for å finne gjennomsnittet for temperatur, vind og nedbør per måned per år. Dette gjøres med den innebygde pandas funksjonen .mean(), hvor vi finner gjennsomsnittet for alle verdier innenfor samme måned per år. Vi har valgt å kun printe ut head(), som er de 5 første linjene av dataen, da det er enklere for koden å kjøre da. Og vi runder av til 3 desimaler."
   ]
  },
  {
   "cell_type": "code",
   "execution_count": 6,
   "metadata": {},
   "outputs": [
    {
     "name": "stdout",
     "output_type": "stream",
     "text": [
      "Gjennomsnittet for Temperatur\n",
      "   year  month   value\n",
      "0  1975      1   0.110\n",
      "1  1975      2  -3.664\n",
      "2  1975      3   0.403\n",
      "3  1975      4   4.172\n",
      "4  1975      5  11.313\n",
      "Gjennomsnittet for Wind\n",
      "   year  month  value\n",
      "0  1975      1  3.248\n",
      "1  1975      2  0.914\n",
      "2  1975      3  2.297\n",
      "3  1975      4  3.283\n",
      "4  1975      5  3.571\n",
      "Gjennomsnittet for Precipitaion\n",
      "   year  month  value\n",
      "0  1975      1  3.332\n",
      "1  1975      2  0.614\n",
      "2  1975      3  1.081\n",
      "3  1975      4  1.062\n",
      "4  1975      5  1.089\n"
     ]
    }
   ],
   "source": [
    "\n",
    "#Finner gjennomsnittet for temperatur\n",
    "average = FindAverage(data = df)\n",
    "average.mean_per_year(\"mean(air_temperature P1D)\", \"Temperatur\")\n",
    "\n",
    "# Finner gjennomsnittet for vind\n",
    "average.mean_per_year(\"mean(wind_speed P1D)\", \"Wind\")\n",
    "\n",
    "# Finner gjennomsnittet for nedbør\n",
    "average.mean_per_year(\"sum(precipitation_amount P1D)\", \"Precipitaion\")\n",
    "\n",
    "\n",
    "\n"
   ]
  },
  {
   "cell_type": "markdown",
   "metadata": {},
   "source": [
    "## Finner medianen per måned per år\n",
    "Her finner vi medianen per måned per år. Median er den verdien som er på midten av samlet data. I dette tilfelle finner vi medianen per måned per år. Dette gjøres med klassene \"Data\" og \"FindMedian\". FindMedian benytter pandas-funksjonen  .median() for å finne medianen per måned per år. Her også printer vi kun head(), og det er rundet av til 3 desimaler."
   ]
  },
  {
   "cell_type": "code",
   "execution_count": 7,
   "metadata": {},
   "outputs": [
    {
     "name": "stdout",
     "output_type": "stream",
     "text": [
      "Median for Temperatur\n",
      "   year  month   value\n",
      "0  1975      1   0.400\n",
      "1  1975      2  -3.875\n",
      "2  1975      3   0.400\n",
      "3  1975      4   4.600\n",
      "4  1975      5  11.450\n",
      "Median for Wind\n",
      "   year  month  value\n",
      "0  1975      1   3.10\n",
      "1  1975      2   0.90\n",
      "2  1975      3   2.10\n",
      "3  1975      4   2.85\n",
      "4  1975      5   3.60\n",
      "Median for Precipitation\n",
      "   year  month  value\n",
      "0  1975      1   2.35\n",
      "1  1975      2   0.00\n",
      "2  1975      3   0.00\n",
      "3  1975      4   0.00\n",
      "4  1975      5   0.10\n"
     ]
    }
   ],
   "source": [
    "\n",
    "# Finner medianen for temperaturen per måned per år\n",
    "median = FindMedian(data = df)\n",
    "median.median_per_year(\"mean(air_temperature P1D)\", \"Temperatur\")\n",
    "\n",
    "# Finner medianen for vind per måned per år\n",
    "median = FindMedian(data = df)\n",
    "median.median_per_year(\"mean(wind_speed P1D)\", \"Wind\")\n",
    "\n",
    "# Finner medianen for nedbør per måned per år\n",
    "median = FindMedian(data = df)\n",
    "median.median_per_year(\"sum(precipitation_amount P1D)\", \"Precipitation\")\n"
   ]
  },
  {
   "cell_type": "markdown",
   "metadata": {},
   "source": [
    "# Finner standardavvik\n",
    "Her finner vi standardavvik, hvor vi benytter klassene \"Data\" og \"FindStd\". \"FindStd\" bruker pandas funksjonen .std() for å finne standardavvik per måned per år. Standardavvik viser hvor mye de innsamlede verdiene varierer fra gjennomsnittet. Her også printes kun head(), og det er rundet av til 3 desimaler."
   ]
  },
  {
   "cell_type": "code",
   "execution_count": 8,
   "metadata": {},
   "outputs": [
    {
     "name": "stdout",
     "output_type": "stream",
     "text": [
      "Standardavvik for Temperature\n",
      "   year  month  value\n",
      "0  1975      1  2.558\n",
      "1  1975      2  2.978\n",
      "2  1975      3  0.892\n",
      "3  1975      4  3.197\n",
      "4  1975      5  3.298\n",
      "Standardavvik for Wind\n",
      "   year  month  value\n",
      "0  1975      1  1.569\n",
      "1  1975      2  0.599\n",
      "2  1975      3  1.640\n",
      "3  1975      4  1.565\n",
      "4  1975      5  1.273\n",
      "Standardavvik for Precipitation\n",
      "   year  month  value\n",
      "0  1975      1  3.595\n",
      "1  1975      2  2.039\n",
      "2  1975      3  2.134\n",
      "3  1975      4  2.171\n",
      "4  1975      5  1.871\n"
     ]
    }
   ],
   "source": [
    "std = FindStd(data = df)\n",
    "std.std_per_year(\"mean(air_temperature P1D)\", \"Temperature\")\n",
    "\n",
    "\n",
    "std = FindStd(data = df)\n",
    "std.std_per_year(\"mean(wind_speed P1D)\", \"Wind\")\n",
    "\n",
    "\n",
    "std = FindStd(data = df)\n",
    "std.std_per_year(\"sum(precipitation_amount P1D)\", \"Precipitation\")\n",
    "\n",
    "\n"
   ]
  }
 ],
 "metadata": {
  "kernelspec": {
   "display_name": "venv",
   "language": "python",
   "name": "python3"
  },
  "language_info": {
   "codemirror_mode": {
    "name": "ipython",
    "version": 3
   },
   "file_extension": ".py",
   "mimetype": "text/x-python",
   "name": "python",
   "nbconvert_exporter": "python",
   "pygments_lexer": "ipython3",
   "version": "3.13.2"
  }
 },
 "nbformat": 4,
 "nbformat_minor": 2
}
