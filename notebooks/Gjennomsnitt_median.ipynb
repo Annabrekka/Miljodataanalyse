{
 "cells": [
  {
   "cell_type": "markdown",
   "metadata": {},
   "source": [
    "# Finner gjennomnsitt per måned per år\n",
    "Vi ønsker å finne gjennomsnittet for temperatur per måned per år.\n",
    "Framgangsmåten er å konvertere kolonnen for dato til datetime-format, slik at vi enkelt kan hente ut år, måned og dag. Videre derfra opprettes en dataframe kun av elementId når den er for temperatur. Så deler vi opp etter år og måned og bruker pandas funksjonen groupby og finner gjennomsnittet for alle verdier innenfor samme måned per år. \n",
    "Gjør det samme for vindhastighet og nedbørsmengde også. For disse to paramenterene printer jeg kun head() fordi det er mye data å print, men head viser de 5 første linjene "
   ]
  },
  {
   "cell_type": "code",
   "execution_count": 7,
   "metadata": {},
   "outputs": [
    {
     "name": "stdout",
     "output_type": "stream",
     "text": [
      "Gjennomsnittet for Temperatur\n",
      "   year  month   value\n",
      "0  1975      1   0.110\n",
      "1  1975      2  -3.664\n",
      "2  1975      3   0.403\n",
      "3  1975      4   4.172\n",
      "4  1975      5  11.313\n",
      "Gjennomsnittet for Wind\n",
      "   year  month  value\n",
      "0  1975      1  3.248\n",
      "1  1975      2  0.914\n",
      "2  1975      3  2.297\n",
      "3  1975      4  3.283\n",
      "4  1975      5  3.571\n",
      "Gjennomsnittet for Precipitaion\n",
      "   year  month  value\n",
      "0  1975      1  3.332\n",
      "1  1975      2  0.614\n",
      "2  1975      3  1.081\n",
      "3  1975      4  1.062\n",
      "4  1975      5  1.089\n"
     ]
    }
   ],
   "source": [
    "import pandas as pd\n",
    "import numpy as np\n",
    "\n",
    "# Lager en dataframe av data fra \"gjsnitt_data\"\n",
    "df = pd.read_csv(\"../data/gjsnitt_data.csv\")\n",
    "\n",
    "#Konverterer kolonnen \"date til datetime-format, slik at det ikke lenger er en tekststreng\"\n",
    "df[\"date\"] = pd.to_datetime(df[\"date\"])\n",
    "\n",
    "# Finner pathen til klassen og importerer klassen\n",
    "import sys\n",
    "sys.path.append(\"../src\")\n",
    "from Average import FindAverage\n",
    "\n",
    "#Finner gjennomsnittet for temperatur\n",
    "average = FindAverage(data = df)\n",
    "average.mean_per_year(\"mean(air_temperature P1D)\", \"Temperatur\")\n",
    "\n",
    "# Finner gjennomsnittet for vind\n",
    "average = FindAverage(data = df)\n",
    "average.mean_per_year(\"mean(wind_speed P1D)\", \"Wind\")\n",
    "\n",
    "# Finner gjennomsnittet for nedbør\n",
    "average = FindAverage(data = df)\n",
    "average.mean_per_year(\"sum(precipitation_amount P1D)\", \"Precipitaion\")\n",
    "\n",
    "#monthly_average_precipitation_per_year.to_csv('../data/Avarage/avarage_precipitation.csv')\n",
    "\n"
   ]
  },
  {
   "cell_type": "markdown",
   "metadata": {},
   "source": [
    "# Finner medianen per måned per år\n",
    "Vi ønsker også å finne medianen per måned per år. \n",
    "Vi bruker samme framgangsmåte som over, men i stedet for å bruke funksjonen mean() for gjennomsnitt, bruker vi median() for medianen."
   ]
  },
  {
   "cell_type": "code",
   "execution_count": 6,
   "metadata": {},
   "outputs": [
    {
     "ename": "NameError",
     "evalue": "name 'df_temp' is not defined",
     "output_type": "error",
     "traceback": [
      "\u001b[0;31m---------------------------------------------------------------------------\u001b[0m",
      "\u001b[0;31mNameError\u001b[0m                                 Traceback (most recent call last)",
      "Cell \u001b[0;32mIn[6], line 2\u001b[0m\n\u001b[1;32m      1\u001b[0m \u001b[38;5;66;03m#Finner medianen for temperatur per måned per år, og runder så av til 3 desimaler\u001b[39;00m\n\u001b[0;32m----> 2\u001b[0m monthly_median_temp_per_year \u001b[38;5;241m=\u001b[39m \u001b[43mdf_temp\u001b[49m\u001b[38;5;241m.\u001b[39mgroupby([\u001b[38;5;124m\"\u001b[39m\u001b[38;5;124myear\u001b[39m\u001b[38;5;124m\"\u001b[39m, \u001b[38;5;124m\"\u001b[39m\u001b[38;5;124mmonth\u001b[39m\u001b[38;5;124m\"\u001b[39m])[\u001b[38;5;124m\"\u001b[39m\u001b[38;5;124mvalue\u001b[39m\u001b[38;5;124m\"\u001b[39m]\u001b[38;5;241m.\u001b[39mmedian()\u001b[38;5;241m.\u001b[39mreset_index()\n\u001b[1;32m      3\u001b[0m monthly_median_temp_per_year[\u001b[38;5;124m\"\u001b[39m\u001b[38;5;124mvalue\u001b[39m\u001b[38;5;124m\"\u001b[39m] \u001b[38;5;241m=\u001b[39m monthly_median_temp_per_year[\u001b[38;5;124m\"\u001b[39m\u001b[38;5;124mvalue\u001b[39m\u001b[38;5;124m\"\u001b[39m]\u001b[38;5;241m.\u001b[39mround(\u001b[38;5;241m3\u001b[39m)\n\u001b[1;32m      5\u001b[0m monthly_median_temp_per_year\u001b[38;5;241m.\u001b[39mto_csv(\u001b[38;5;124m'\u001b[39m\u001b[38;5;124m../data/Avarage/median_temperatur.csv\u001b[39m\u001b[38;5;124m'\u001b[39m)\n",
      "\u001b[0;31mNameError\u001b[0m: name 'df_temp' is not defined"
     ]
    }
   ],
   "source": [
    "#Finner medianen for temperatur per måned per år, og runder så av til 3 desimaler\n",
    "monthly_median_temp_per_year = df_temp.groupby([\"year\", \"month\"])[\"value\"].median().reset_index()\n",
    "monthly_median_temp_per_year[\"value\"] = monthly_median_temp_per_year[\"value\"].round(3)\n",
    "\n",
    "monthly_median_temp_per_year.to_csv('../data/Avarage/median_temperatur.csv')\n",
    "\n",
    "\n",
    "#Median for vind\n",
    "monthly_median_wind_per_year = df_wind.groupby([\"year\", \"month\"])[\"value\"].median().reset_index()\n",
    "monthly_median_wind_per_year[\"value\"] = monthly_median_wind_per_year[\"value\"].round(3)\n",
    "\n",
    "monthly_median_wind_per_year.to_csv('../data/Avarage/median_wind.csv')\n",
    "\n",
    "#Median for nedbørsmengde\n",
    "monthly_median_precipitation_per_year = df_precipitation.groupby([\"year\", \"month\"])[\"value\"].median().reset_index()\n",
    "monthly_median_precipitation_per_year[\"value\"] = monthly_median_precipitation_per_year[\"value\"].round(3)\n",
    "\n",
    "monthly_median_precipitation_per_year.to_csv('../data/Avarage/median_precipitation.csv')\n",
    "\n",
    "print(\"Median for temperatur\")\n",
    "print(monthly_median_temp_per_year)\n",
    "\n",
    "print(\"Median for vind\")\n",
    "print(monthly_median_wind_per_year.head())\n",
    "\n",
    "print(\"Median for nedbørsmengde\")\n",
    "print(monthly_median_precipitation_per_year.head())\n"
   ]
  },
  {
   "cell_type": "markdown",
   "metadata": {},
   "source": [
    "# Finner standardavvik\n",
    "Finner standardavvik for å se hvor mye verdiene varierer rundt gjennomsnittet"
   ]
  },
  {
   "cell_type": "code",
   "execution_count": null,
   "metadata": {},
   "outputs": [
    {
     "name": "stdout",
     "output_type": "stream",
     "text": [
      "     year  month     value\n",
      "0    1975      1  2.558008\n",
      "1    1975      2  2.977908\n",
      "2    1975      3  0.891715\n",
      "3    1975      4  3.197485\n",
      "4    1975      5  3.298181\n",
      "..    ...    ...       ...\n",
      "547  2020      8  2.862747\n",
      "548  2020      9  1.542967\n",
      "549  2020     10  2.874007\n",
      "550  2020     11  3.593948\n",
      "551  2020     12  1.713704\n",
      "\n",
      "[552 rows x 3 columns]\n",
      "   year  month     value\n",
      "0  1975      1  1.568624\n",
      "1  1975      2  0.599206\n",
      "2  1975      3  1.640220\n",
      "3  1975      4  1.564715\n",
      "4  1975      5  1.273105\n",
      "   year  month     value\n",
      "0  1975      1  2.558008\n",
      "1  1975      2  2.977908\n",
      "2  1975      3  0.891715\n",
      "3  1975      4  3.197485\n",
      "4  1975      5  3.298181\n"
     ]
    }
   ],
   "source": [
    "monthly_std_temp_per_year = df_temp.groupby([\"year\", \"month\"])[\"value\"].std().reset_index()\n",
    "print(monthly_std_temp_per_year)\n",
    "monthly_std_temp_per_year.to_csv('../data/Avarage/std_temperatur.csv')\n",
    "\n",
    "monthly_std_wind_per_year = df_wind.groupby([\"year\", \"month\"])[\"value\"].std().reset_index()\n",
    "print(monthly_std_wind_per_year.head())\n",
    "monthly_std_wind_per_year.to_csv('../data/Avarage/std_wind.csv')\n",
    "\n",
    "monthly_std_precipitation_per_year = df_temp.groupby([\"year\", \"month\"])[\"value\"].std().reset_index()\n",
    "print(monthly_std_precipitation_per_year.head())\n",
    "monthly_std_precipitation_per_year.to_csv('../data/Avarage/std_precipitation.csv')\n"
   ]
  },
  {
   "cell_type": "code",
   "execution_count": null,
   "metadata": {},
   "outputs": [],
   "source": []
  }
 ],
 "metadata": {
  "kernelspec": {
   "display_name": "venv",
   "language": "python",
   "name": "python3"
  },
  "language_info": {
   "codemirror_mode": {
    "name": "ipython",
    "version": 3
   },
   "file_extension": ".py",
   "mimetype": "text/x-python",
   "name": "python",
   "nbconvert_exporter": "python",
   "pygments_lexer": "ipython3",
   "version": "3.13.2"
  }
 },
 "nbformat": 4,
 "nbformat_minor": 2
}
